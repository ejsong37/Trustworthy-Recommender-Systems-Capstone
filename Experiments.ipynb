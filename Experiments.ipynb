{
 "cells": [
  {
   "attachments": {},
   "cell_type": "markdown",
   "id": "428270b6",
   "metadata": {},
   "source": [
    "### Trustworthy Recommender System Policy\n",
    "\n",
    "Calculate policy:\n",
    "pt(t,s=0)\n",
    " - We don't have to check for pt(t,s=1) since pt(t,s=1) = 1 for all t.\n",
    "\n",
    "At t = 0\n",
    "First recieve signal \n",
    " - s = 1 with probability p0 if w = 1\n",
    " - s = 0 with probability 1-p0 if w = 1\n",
    " - s = 1 with probability 0 if w = 0\n",
    " - s = 0 with probability 1 if w = 0\n",
    "\n",
    "Case where we recieve good news\n",
    "If s = 1, set pt,alphat = 1 and any pull stochastic arm\n",
    "\n",
    "Case where we recieve no news\n",
    "If s = 0, check for pt(t+1,s=0) in the table and calculate alphat+1 and pt+1*\n",
    "\n",
    "At t = 1\n",
    "First check if s = 1\n",
    "Otherwise\n",
    "determine if pt < pt*\n",
    "then set pt,alphat = 0 and only pull stochastic arm\n",
    "else\n",
    "continue"
   ]
  },
  {
   "cell_type": "code",
   "execution_count": 2,
   "id": "6425388e",
   "metadata": {},
   "outputs": [],
   "source": [
    "import numpy as np"
   ]
  },
  {
   "cell_type": "code",
   "execution_count": 5,
   "id": "2fb2f875",
   "metadata": {},
   "outputs": [
    {
     "data": {
      "text/plain": [
       "array([0., 0., 0., 0., 0., 0., 0., 0., 0., 0., 0.])"
      ]
     },
     "execution_count": 5,
     "metadata": {},
     "output_type": "execute_result"
    }
   ],
   "source": [
    "np.zeros(10+1)"
   ]
  },
  {
   "cell_type": "code",
   "execution_count": 9,
   "id": "1243af0c",
   "metadata": {},
   "outputs": [],
   "source": [
    "def first_best_policy(p0,rho,c,n,r=0,lamb=0):\n",
    "    \"\"\"\n",
    "    Policy for trustworthy recommender system implemented by\n",
    "    Bayesian Optimal Policy (BOP)\n",
    "\n",
    "    Args:\n",
    "        p0: Prior for recieving good news (constant)\n",
    "        rho: Background learning (constant)\n",
    "        lamb: rate at which user consumption produces breakthrough news\n",
    "        c: cost of consuming product\n",
    "        r: ? \n",
    "        n: Horizon\n",
    "    \"\"\" \n",
    "    qi = np.zeros(n+1)\n",
    "    gi = np.zeros(n+1)\n",
    "    wi = np.zeros([2,n+1])\n",
    "    pi = np.zeros(n+1)\n",
    "    alphai = np.ones(n+1)\n",
    "    pi[0] = ((1-rho)*p0 )/ ((1-rho)*p0 + 1 - p0)\n",
    "    for i in range(1,n+1):\n",
    "        pi[i] = (pi[i-1]*(1-rho*alphai[i-1])) / (pi[i-1]*(1-rho*alphai[i-1])+(1-pi[i-1]))\n",
    "    \n",
    "    for i in range(n+1):\n",
    "        gi[i] = (p0 - pi[i])/(1-pi[i])\n",
    "        qi[i] = (gi[i] + (1-gi[i])*alphai[i]*pi[i]) / ((gi[i]) + (1-gi[i])*alphai[i])\n",
    "        if qi[i] < c:\n",
    "            alphai[i] = 0\n",
    "        \n",
    "    for i in range(n-1,-1,-1):\n",
    "        wi[0][i] = (1-c)*(n-i+1)\n",
    "        w = (1-c)*pi[i] + (-c)*(1-pi[i]) + rho*pi[i]*wi[0][i+1]-rho*pi[i]*wi[1][i+1]\n",
    "        #print(qi)\n",
    "        if w > 0:\n",
    "            wi[1][i] = w*alphai[i] + wi[1][i+1]\n",
    "        else:\n",
    "            alphai[i] = 0\n",
    "            wi[1][i] = wi[1][i+1]\n",
    "    return pi,alphai,wi[1][:],qi"
   ]
  },
  {
   "cell_type": "code",
   "execution_count": 10,
   "id": "3a032684",
   "metadata": {},
   "outputs": [],
   "source": [
    "def second_best_policy(p0,rho,c,n):\n",
    "    \"\"\"\n",
    "    Policy for trustworthy recommender system implemented by\n",
    "    Bayesian Optimal Policy (BOP)\n",
    "\n",
    "    Args:\n",
    "        p0: Prior for recieving good news (constant)\n",
    "        rho: Background learning (constant)\n",
    "        lamb: rate at which user consumption produces breakthrough news\n",
    "        c: cost of consuming product\n",
    "        r: ? \n",
    "        n: Horizon\n",
    "    \"\"\" \n",
    "    qi = np.zeros(n+1)\n",
    "    gi = np.zeros(n+1)\n",
    "    wi = np.zeros([2,n+1])\n",
    "    pi = np.zeros(n+1)\n",
    "    alphai = np.zeros(n+1)\n",
    "    pi[0] = ((1-rho)*p0 )/ ((1-rho)*p0 + 1 - p0)\n",
    "    for i in range(1,n+1):\n",
    "        alphai[i-1] = ((1-c)*(p0-pi[i-1]))/((1-p0)*(c-pi[i-1]))\n",
    "        pi[i] = (pi[i-1]*(1-rho*alphai[i-1])) / (pi[i-1]*(1-rho*alphai[i-1])+(1-pi[i-1]))\n",
    "    \n",
    "    for i in range(n+1):\n",
    "        gi[i] = (p0 - pi[i])/(1-pi[i])\n",
    "        qi[i] = (gi[i] + (1-gi[i])*alphai[i]*pi[i]) / ((gi[i]) + (1-gi[i])*alphai[i])\n",
    "        \n",
    "    for i in range(n-1,-1,-1):\n",
    "        wi[0][i] = (1-c)*(n-i+1)\n",
    "        w = (1-c)*pi[i] + (-c)*(1-pi[i]) + rho*pi[i]*wi[0][i+1]-rho*pi[i]*wi[1][i+1]\n",
    "        #print(qi)\n",
    "        if w > 0:\n",
    "            wi[1][i] = w*alphai[i] + wi[1][i+1]\n",
    "        else:\n",
    "            wi[1][i] = wi[1][i+1]\n",
    "    return pi,alphai,wi[1][:],qi"
   ]
  },
  {
   "cell_type": "code",
   "execution_count": 11,
   "id": "9ed1a1c4",
   "metadata": {},
   "outputs": [],
   "source": [
    "import pandas as pd\n",
    "import numpy as np\n",
    "import matplotlib.pyplot as plt"
   ]
  },
  {
   "cell_type": "code",
   "execution_count": 12,
   "id": "38adde33",
   "metadata": {},
   "outputs": [],
   "source": [
    "p1,alpha1,w1,q1 = first_best_policy(p0=0.5,rho=0.25,c=2/3,n=1000)\n",
    "p2,alpha2,w2,q2 = second_best_policy(p0=0.5,rho=0.25,c=2/3,n=1000)"
   ]
  },
  {
   "cell_type": "code",
   "execution_count": 13,
   "id": "adb48e45",
   "metadata": {},
   "outputs": [
    {
     "data": {
      "text/plain": [
       "[<matplotlib.lines.Line2D at 0x2c7701f8cd0>]"
      ]
     },
     "execution_count": 13,
     "metadata": {},
     "output_type": "execute_result"
    },
    {
     "data": {
      "image/png": "[encoded data removed]",
      "text/plain": [
       "<Figure size 432x288 with 1 Axes>"
      ]
     },
     "metadata": {
      "needs_background": "light"
     },
     "output_type": "display_data"
    }
   ],
   "source": [
    "plt.plot(alpha1)\n",
    "plt.plot(alpha2)"
   ]
  },
  {
   "cell_type": "code",
   "execution_count": null,
   "id": "0dab041c",
   "metadata": {},
   "outputs": [],
   "source": []
  }
 ],
 "metadata": {
  "kernelspec": {
   "display_name": "Python 3",
   "language": "python",
   "name": "python3"
  },
  "language_info": {
   "codemirror_mode": {
    "name": "ipython",
    "version": 3
   },
   "file_extension": ".py",
   "mimetype": "text/x-python",
   "name": "python",
   "nbconvert_exporter": "python",
   "pygments_lexer": "ipython3",
   "version": "3.9.8"
  },
  "vscode": {
   "interpreter": {
    "hash": "34372b9d98f8c6abd6a7f0349816a7e626d74fb2e30268dde5de7d20e081b161"
   }
  }
 },
 "nbformat": 4,
 "nbformat_minor": 5
}
