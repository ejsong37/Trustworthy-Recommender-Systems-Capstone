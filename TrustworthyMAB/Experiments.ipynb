{
 "cells": [
  {
   "cell_type": "code",
   "execution_count": 2,
   "id": "6425388e",
   "metadata": {},
   "outputs": [],
   "source": [
    "import pandas as pd\n",
    "import numpy as np\n",
    "import matplotlib.pyplot as plt"
   ]
  },
  {
   "cell_type": "code",
   "execution_count": 3,
   "id": "1243af0c",
   "metadata": {},
   "outputs": [],
   "source": [
    "def first_best_policy(p0,rho,c,n,r=0,lamb=0):\n",
    "    \"\"\"\n",
    "    Policy for trustworthy recommender system implemented by\n",
    "    Bayesian Optimal Policy (BOP)\n",
    "\n",
    "    Args:\n",
    "        p0: Prior for recieving good news (constant)\n",
    "        rho: Background learning (constant)\n",
    "        c: cost of consuming product\n",
    "        n: Horizon\n",
    "    \"\"\" \n",
    "    qi = np.zeros(n+1)\n",
    "    gi = np.zeros(n+1)\n",
    "    wi = np.zeros([2,n+1])\n",
    "    pi = np.zeros(n+1)\n",
    "    alphai = np.ones(n+1)\n",
    "    pi[0] = ((1-rho)*p0 )/ ((1-rho)*p0 + 1 - p0)\n",
    "    for i in range(1,n+1):\n",
    "        pi[i] = (pi[i-1]*(1-rho*alphai[i-1])) / (pi[i-1]*(1-rho*alphai[i-1])+(1-pi[i-1]))\n",
    "    \n",
    "    for i in range(n+1):\n",
    "        gi[i] = (p0 - pi[i])/(1-pi[i])\n",
    "        qi[i] = (gi[i] + (1-gi[i])*alphai[i]*pi[i]) / ((gi[i]) + (1-gi[i])*alphai[i])\n",
    "        if qi[i] < c:\n",
    "            alphai[i] = 0\n",
    "        \n",
    "    for i in range(n-1,-1,-1):\n",
    "        wi[0][i] = (1-c)*(n-i+1)\n",
    "        w = (1-c)*pi[i] + (-c)*(1-pi[i]) + rho*pi[i]*wi[0][i+1]-rho*pi[i]*wi[1][i+1]\n",
    "        #print(qi)\n",
    "        if w > 0:\n",
    "            wi[1][i] = w*alphai[i] + wi[1][i+1]\n",
    "        else:\n",
    "            alphai[i] = 0\n",
    "            wi[1][i] = wi[1][i+1]\n",
    "    return pi,alphai,wi[1][:],qi"
   ]
  },
  {
   "cell_type": "code",
   "execution_count": 4,
   "id": "3a032684",
   "metadata": {},
   "outputs": [],
   "source": [
    "def second_best_policy(p0,rho,c,n):\n",
    "    \"\"\"\n",
    "    Policy for trustworthy recommender system implemented by\n",
    "    Bayesian Optimal Policy (BOP)\n",
    "\n",
    "    Args:\n",
    "        p0: Prior for recieving good news (constant)\n",
    "        rho: Background learning (constant)\n",
    "        c: cost of consuming product\n",
    "        n: Horizon\n",
    "    \"\"\" \n",
    "    qi = np.zeros(n+1)\n",
    "    gi = np.zeros(n+1)\n",
    "    wi = np.zeros([2,n+1])\n",
    "    pi = np.zeros(n+1)\n",
    "    alphai = np.zeros(n+1)\n",
    "    pi[0] = ((1-rho)*p0 )/ ((1-rho)*p0 + 1 - p0)\n",
    "    for i in range(1,n+1):\n",
    "        alphai[i-1] = ((1-c)*(p0-pi[i-1]))/((1-p0)*(c-pi[i-1]))\n",
    "        pi[i] = (pi[i-1]*(1-rho*alphai[i-1])) / (pi[i-1]*(1-rho*alphai[i-1])+(1-pi[i-1]))\n",
    "    \n",
    "    for i in range(n+1):\n",
    "        gi[i] = (p0 - pi[i])/(1-pi[i])\n",
    "        qi[i] = (gi[i] + (1-gi[i])*alphai[i]*pi[i]) / ((gi[i]) + (1-gi[i])*alphai[i])\n",
    "        \n",
    "    for i in range(n-1,-1,-1):\n",
    "        wi[0][i] = (1-c)*(n-i+1)\n",
    "        w = (1-c)*pi[i] + (-c)*(1-pi[i]) + rho*pi[i]*wi[0][i+1]-rho*pi[i]*wi[1][i+1]\n",
    "        #print(qi)\n",
    "        if w > 0:\n",
    "            wi[1][i] = w*alphai[i] + wi[1][i+1]\n",
    "        else:\n",
    "            wi[1][i] = wi[1][i+1]\n",
    "    return pi,alphai,wi[1][:],qi"
   ]
  },
  {
   "cell_type": "code",
   "execution_count": 22,
   "id": "5bd14fc4",
   "metadata": {},
   "outputs": [],
   "source": [
    "def experiments(p0=0.5,rho=0.25,c=2/3,n=1000):\n",
    "    \"\"\"\n",
    "    Experiments for Trustworthy Recommender Systems\n",
    "\n",
    "    Args:\n",
    "        p0: Prior for recieving good news (constant)\n",
    "        rho: Background learning (constant)\n",
    "        c: cost of consuming product\n",
    "        n: Horizon\n",
    "    \"\"\" \n",
    "    p1,alpha1,w1,q1 = first_best_policy(p0,rho,c,n)\n",
    "    p2,alpha2,w2,q2 = second_best_policy(p0,rho,c,n)\n",
    "    a = np.arange(1, 51).tolist()\n",
    "    a = np.array([0, 0.5] + a).tolist()\n",
    "    plt.plot(a,[1, 1] + alpha1[:50].tolist(),'-',label='first_best_policy', )\n",
    "    plt.plot(range(1, 51),alpha2[:50],'-', label='second_best_policy')\n",
    "    plt.plot()\n",
    "    plt.legend()\n",
    "    plt.title(\"Alpha vs. Timestep\")\n",
    "    plt.xlabel(\"time\")\n",
    "    plt.ylabel(\"alpha\")\n",
    "    plt.tight_layout()\n",
    "    plt.savefig('alpha.pdf')\n",
    "    return 1"
   ]
  },
  {
   "cell_type": "code",
   "execution_count": 23,
   "id": "9bd317b3",
   "metadata": {},
   "outputs": [
    {
     "data": {
      "text/plain": [
       "1"
      ]
     },
     "execution_count": 23,
     "metadata": {},
     "output_type": "execute_result"
    },
    {
     "data": {
      "image/png": "[encoded data removed]",
      "text/plain": [
       "<Figure size 432x288 with 1 Axes>"
      ]
     },
     "metadata": {
      "needs_background": "light"
     },
     "output_type": "display_data"
    }
   ],
   "source": [
    "experiments()"
   ]
  },
  {
   "cell_type": "code",
   "execution_count": null,
   "id": "0dab041c",
   "metadata": {},
   "outputs": [],
   "source": []
  }
 ],
 "metadata": {
  "kernelspec": {
   "display_name": "Python 3",
   "language": "python",
   "name": "python3"
  },
  "language_info": {
   "codemirror_mode": {
    "name": "ipython",
    "version": 3
   },
   "file_extension": ".py",
   "mimetype": "text/x-python",
   "name": "python",
   "nbconvert_exporter": "python",
   "pygments_lexer": "ipython3",
   "version": "3.9.8"
  },
  "vscode": {
   "interpreter": {
    "hash": "34372b9d98f8c6abd6a7f0349816a7e626d74fb2e30268dde5de7d20e081b161"
   }
  }
 },
 "nbformat": 4,
 "nbformat_minor": 5
}
